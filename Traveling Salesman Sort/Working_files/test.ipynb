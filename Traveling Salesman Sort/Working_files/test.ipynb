{
 "cells": [
  {
   "cell_type": "markdown",
   "id": "34521b1e",
   "metadata": {},
   "source": [
    "## Test code below:"
   ]
  },
  {
   "cell_type": "code",
   "execution_count": 5,
   "id": "9e343dc2",
   "metadata": {},
   "outputs": [
    {
     "name": "stdout",
     "output_type": "stream",
     "text": [
      "Shortest path:\n",
      "(448003.735, 1699106.535, '4')\n",
      "(448031.381, 1699106.535, '5')\n",
      "(448061.24, 1698490.074, '3')\n",
      "(448004.567, 1698521.312, '10')\n",
      "(447971.38, 1698503.621, '9')\n",
      "(447976.492, 1698490.137, '2')\n",
      "(447971.359, 1698476.511, '8')\n",
      "(447449.611, 1698477.056, '7')\n",
      "(447444.186, 1698490.554, '1')\n",
      "(447449.611, 1698504.016, '6')\n",
      "Total distance: 1326.9404440152903\n"
     ]
    }
   ],
   "source": [
    "import csv\n",
    "import itertools\n",
    "\n",
    "# Read the CSV file and store the coordinates in a list\n",
    "coords = []\n",
    "with open('test.csv', 'r') as csvfile:  \n",
    "  reader = csv.reader(csvfile)\n",
    "  for row in reader:\n",
    "    coords.append((float(row[0]), float(row[1]), row[2]))\n",
    "  # print(coords)\n",
    "\n",
    "# Calculate the distance between two points\n",
    "def distance(p1, p2):\n",
    "  return ((p1[0] - p2[0])**2 + (p1[1] - p2[1])**2)**0.5\n",
    "\n",
    "# print(distance(coords[1],coords[2]))\n",
    "\n",
    "# Find the shortest path that visits all points\n",
    "best_distance = float('inf')\n",
    "best_path = None\n",
    "for path in itertools.permutations(coords):\n",
    "  total_distance = 0\n",
    "  for i in range(1, len(path)):\n",
    "    total_distance += distance(path[i-1], path[i])\n",
    "  if total_distance < best_distance:\n",
    "    # print('test')\n",
    "    best_distance = total_distance\n",
    "    best_path = path\n",
    "\n",
    "# print(best_path)\n",
    "\n",
    "# Print the shortest path\n",
    "print(\"Shortest path:\")\n",
    "for p in best_path:\n",
    "  print(p)\n",
    "print(\"Total distance:\", best_distance)\n",
    "\n",
    "# Sort the CSV file based on the shortest path\n",
    "sorted_rows = [row for row in best_path]\n",
    "with open('sorted_points_final.csv', 'w') as csvfile:\n",
    "  writer = csv.writer(csvfile)\n",
    "  for row in sorted_rows:\n",
    "    writer.writerow(row)"
   ]
  },
  {
   "cell_type": "code",
   "execution_count": 6,
   "id": "46d00bdd",
   "metadata": {},
   "outputs": [
    {
     "data": {
      "text/plain": [
       "[(448003.735, 1699106.535, '4'),\n",
       " (448031.381, 1699106.535, '5'),\n",
       " (448061.24, 1698490.074, '3'),\n",
       " (448004.567, 1698521.312, '10'),\n",
       " (447971.38, 1698503.621, '9'),\n",
       " (447976.492, 1698490.137, '2'),\n",
       " (447971.359, 1698476.511, '8'),\n",
       " (447449.611, 1698477.056, '7'),\n",
       " (447444.186, 1698490.554, '1'),\n",
       " (447449.611, 1698504.016, '6')]"
      ]
     },
     "execution_count": 6,
     "metadata": {},
     "output_type": "execute_result"
    }
   ],
   "source": [
    "sorted_rows"
   ]
  },
  {
   "cell_type": "code",
   "execution_count": null,
   "id": "bf39608c",
   "metadata": {},
   "outputs": [],
   "source": []
  },
  {
   "cell_type": "code",
   "execution_count": null,
   "id": "50d281f2",
   "metadata": {},
   "outputs": [],
   "source": []
  },
  {
   "cell_type": "markdown",
   "id": "652c481f",
   "metadata": {},
   "source": [
    "## Final code below"
   ]
  },
  {
   "cell_type": "code",
   "execution_count": 7,
   "id": "128e45aa",
   "metadata": {},
   "outputs": [
    {
     "ename": "KeyboardInterrupt",
     "evalue": "",
     "output_type": "error",
     "traceback": [
      "\u001b[0;31m---------------------------------------------------------------------------\u001b[0m",
      "\u001b[0;31mKeyboardInterrupt\u001b[0m                         Traceback (most recent call last)",
      "Cell \u001b[0;32mIn [7], line 24\u001b[0m\n\u001b[1;32m     22\u001b[0m total_distance \u001b[38;5;241m=\u001b[39m \u001b[38;5;241m0\u001b[39m\n\u001b[1;32m     23\u001b[0m \u001b[38;5;28;01mfor\u001b[39;00m i \u001b[38;5;129;01min\u001b[39;00m \u001b[38;5;28mrange\u001b[39m(\u001b[38;5;241m1\u001b[39m, \u001b[38;5;28mlen\u001b[39m(path)):\n\u001b[0;32m---> 24\u001b[0m   total_distance \u001b[38;5;241m+\u001b[39m\u001b[38;5;241m=\u001b[39m \u001b[43mdistance\u001b[49m\u001b[43m(\u001b[49m\u001b[43mpath\u001b[49m\u001b[43m[\u001b[49m\u001b[43mi\u001b[49m\u001b[38;5;241;43m-\u001b[39;49m\u001b[38;5;241;43m1\u001b[39;49m\u001b[43m]\u001b[49m\u001b[43m,\u001b[49m\u001b[43m \u001b[49m\u001b[43mpath\u001b[49m\u001b[43m[\u001b[49m\u001b[43mi\u001b[49m\u001b[43m]\u001b[49m\u001b[43m)\u001b[49m\n\u001b[1;32m     25\u001b[0m \u001b[38;5;28;01mif\u001b[39;00m total_distance \u001b[38;5;241m<\u001b[39m best_distance:\n\u001b[1;32m     26\u001b[0m   \u001b[38;5;66;03m# print('test')\u001b[39;00m\n\u001b[1;32m     27\u001b[0m   best_distance \u001b[38;5;241m=\u001b[39m total_distance\n",
      "\u001b[0;31mKeyboardInterrupt\u001b[0m: "
     ]
    }
   ],
   "source": [
    "import csv\n",
    "import itertools\n",
    "\n",
    "# Read the CSV file and store the coordinates in a list\n",
    "coords = []\n",
    "with open('road_marks.csv', 'r') as csvfile:  \n",
    "  reader = csv.reader(csvfile)\n",
    "  for row in reader:\n",
    "    coords.append((float(row[0]), float(row[1]), row[2]))\n",
    "  # print(coords)\n",
    "\n",
    "# Calculate the distance between two points\n",
    "def distance(p1, p2):\n",
    "  return ((p1[0] - p2[0])**2 + (p1[1] - p2[1])**2)**0.5\n",
    "\n",
    "# print(distance(coords[1],coords[2]))\n",
    "\n",
    "# Find the shortest path that visits all points\n",
    "best_distance = float('inf')\n",
    "best_path = None\n",
    "for path in itertools.permutations(coords):\n",
    "  total_distance = 0\n",
    "  for i in range(1, len(path)):\n",
    "    total_distance += distance(path[i-1], path[i])\n",
    "  if total_distance < best_distance:\n",
    "    # print('test')\n",
    "    best_distance = total_distance\n",
    "    best_path = path\n",
    "\n",
    "# print(best_path)\n",
    "\n",
    "# Print the shortest path\n",
    "print(\"Shortest path:\")\n",
    "for p in best_path:\n",
    "  print(p)\n",
    "print(\"Total distance:\", best_distance)\n",
    "\n",
    "# Sort the CSV file based on the shortest path\n",
    "sorted_rows = [row for row in best_path]\n",
    "with open('sorted_points_final.csv', 'w') as csvfile:\n",
    "  writer = csv.writer(csvfile)\n",
    "  for row in sorted_rows:\n",
    "    writer.writerow(row)"
   ]
  },
  {
   "cell_type": "code",
   "execution_count": null,
   "id": "e5cab631",
   "metadata": {},
   "outputs": [],
   "source": []
  }
 ],
 "metadata": {
  "kernelspec": {
   "display_name": "Python 3 (ipykernel)",
   "language": "python",
   "name": "python3"
  },
  "language_info": {
   "codemirror_mode": {
    "name": "ipython",
    "version": 3
   },
   "file_extension": ".py",
   "mimetype": "text/x-python",
   "name": "python",
   "nbconvert_exporter": "python",
   "pygments_lexer": "ipython3",
   "version": "3.10.6"
  }
 },
 "nbformat": 4,
 "nbformat_minor": 5
}
