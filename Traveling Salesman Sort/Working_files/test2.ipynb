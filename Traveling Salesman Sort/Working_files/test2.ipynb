{
 "cells": [
  {
   "cell_type": "code",
   "execution_count": 1,
   "id": "6a1a80cb",
   "metadata": {},
   "outputs": [
    {
     "name": "stdout",
     "output_type": "stream",
     "text": [
      "Shortest path:\n",
      "(448003.735, 1699106.535, '4')\n",
      "(448031.381, 1699106.535, '5')\n",
      "(448061.24, 1698490.074, '3')\n",
      "(448004.567, 1698521.312, '10')\n",
      "(447971.38, 1698503.621, '9')\n",
      "(447976.492, 1698490.137, '2')\n",
      "(447971.359, 1698476.511, '8')\n",
      "(447449.611, 1698477.056, '7')\n",
      "(447444.186, 1698490.554, '1')\n",
      "(447449.611, 1698504.016, '6')\n",
      "Total distance: 1326.9404440152903\n"
     ]
    }
   ],
   "source": [
    "import csv\n",
    "import itertools\n",
    "\n",
    "# Read the CSV file and store the coordinates in a list\n",
    "coords = []\n",
    "with open('test.csv', 'r') as csvfile:  \n",
    "  reader = csv.reader(csvfile)\n",
    "  for row in reader:\n",
    "    coords.append((float(row[0]), float(row[1]), row[2]))\n",
    "  # print(coords)\n",
    "\n",
    "# Calculate the distance between two points\n",
    "def distance(p1, p2):\n",
    "  return ((p1[0] - p2[0])**2 + (p1[1] - p2[1])**2)**0.5\n",
    "\n",
    "# print(distance(coords[1],coords[2]))\n",
    "\n",
    "# Find the shortest path that visits all points\n",
    "best_distance = float('inf')\n",
    "best_path = None\n",
    "for path in itertools.permutations(coords):\n",
    "  total_distance = 0\n",
    "  for i in range(1, len(path)):\n",
    "    total_distance += distance(path[i-1], path[i])\n",
    "  if total_distance < best_distance:\n",
    "    # print('test')\n",
    "    best_distance = total_distance\n",
    "    best_path = path\n",
    "\n",
    "# print(best_path)\n",
    "\n",
    "# Print the shortest path\n",
    "print(\"Shortest path:\")\n",
    "for p in best_path:\n",
    "  print(p)\n",
    "print(\"Total distance:\", best_distance)\n",
    "\n",
    "# Sort the CSV file based on the shortest path\n",
    "sorted_rows = [row for row in best_path]\n",
    "with open('sorted_points_final.csv', 'w') as csvfile:\n",
    "  writer = csv.writer(csvfile)\n",
    "  for row in sorted_rows:\n",
    "    writer.writerow(row)"
   ]
  },
  {
   "cell_type": "code",
   "execution_count": 3,
   "id": "f7691bd1",
   "metadata": {},
   "outputs": [
    {
     "data": {
      "text/plain": [
       "[(447444.186, 1698490.554, '1'),\n",
       " (447976.492, 1698490.137, '2'),\n",
       " (448061.24, 1698490.074, '3'),\n",
       " (448003.735, 1699106.535, '4'),\n",
       " (448031.381, 1699106.535, '5'),\n",
       " (447449.611, 1698504.016, '6'),\n",
       " (447449.611, 1698477.056, '7'),\n",
       " (447971.359, 1698476.511, '8'),\n",
       " (447971.38, 1698503.621, '9'),\n",
       " (448004.567, 1698521.312, '10')]"
      ]
     },
     "execution_count": 3,
     "metadata": {},
     "output_type": "execute_result"
    }
   ],
   "source": [
    "coords"
   ]
  },
  {
   "cell_type": "code",
   "execution_count": 4,
   "id": "cfdef35c",
   "metadata": {},
   "outputs": [
    {
     "name": "stdout",
     "output_type": "stream",
     "text": [
      "6\n"
     ]
    }
   ],
   "source": [
    "print(coords.index((447449.611, 1698477.056, '7')))"
   ]
  },
  {
   "cell_type": "code",
   "execution_count": 22,
   "id": "c3a782e9",
   "metadata": {},
   "outputs": [
    {
     "name": "stdout",
     "output_type": "stream",
     "text": [
      "[(447444.186, 1698490.554, '1'), 5]\n"
     ]
    },
    {
     "ename": "IndexError",
     "evalue": "list assignment index out of range",
     "output_type": "error",
     "traceback": [
      "\u001b[0;31m---------------------------------------------------------------------------\u001b[0m",
      "\u001b[0;31mIndexError\u001b[0m                                Traceback (most recent call last)",
      "Cell \u001b[0;32mIn [22], line 4\u001b[0m\n\u001b[1;32m      2\u001b[0m testpoint\u001b[38;5;241m.\u001b[39mappend(\u001b[38;5;241m5\u001b[39m)\n\u001b[1;32m      3\u001b[0m \u001b[38;5;28mprint\u001b[39m(testpoint)\n\u001b[0;32m----> 4\u001b[0m \u001b[43mtestpoint\u001b[49m\u001b[43m[\u001b[49m\u001b[38;5;241;43m2\u001b[39;49m\u001b[43m]\u001b[49m\u001b[38;5;241m=\u001b[39m\u001b[38;5;241m6\u001b[39m\n\u001b[1;32m      5\u001b[0m testpoint[\u001b[38;5;241m1\u001b[39m]\n",
      "\u001b[0;31mIndexError\u001b[0m: list assignment index out of range"
     ]
    }
   ],
   "source": [
    "testpoint = [coords[0]]\n",
    "testpoint.append(5)\n",
    "print(testpoint)\n",
    "testpoint[2]=6\n",
    "testpoint[1]"
   ]
  },
  {
   "cell_type": "markdown",
   "id": "314d9671",
   "metadata": {},
   "source": [
    "start from point 1\n",
    "check each succeeding points then select the shortest distance\n",
    "loop above for the chosen point\n",
    "\n",
    "new_list=[coords[0]]\n",
    "i=1\n",
    "for point in new_list\n",
    "    for j in range(i, len(coords)):\n",
    "        computed_dist=distance(point, coords[j])\n",
    "        if computed_dist < shortest_dist:\n",
    "            shortest_dist=computed_dist\n",
    "            new_point=coords[j]\n",
    "    new_list.append[new_point]\n",
    "    i+=1\n",
    "            "
   ]
  },
  {
   "cell_type": "code",
   "execution_count": 67,
   "id": "f6012742",
   "metadata": {},
   "outputs": [
    {
     "name": "stdout",
     "output_type": "stream",
     "text": [
      "Shortest path:\n",
      "(447444.186, 1698490.554, '1', 'R3-15')\n",
      "(447449.611, 1698504.016, '2', 'W6-1')\n",
      "(447449.611, 1698504.016, '4', 'W6-4')\n",
      "(447455.611, 1698504.016, '6', 'R1-1')\n",
      "(447449.611, 1698477.056, '3', 'W6-1')\n",
      "(447449.611, 1698477.056, '5', 'W6-4')\n",
      "(447505.611, 1698503.976, '7', 'R1-1')\n",
      "(447859.343, 1698476.748, '8', 'R2-7')\n",
      "(447915.359, 1698476.554, '9', 'R1-1')\n",
      "(447965.359, 1698476.515, '10', 'R1-1')\n",
      "(447971.359, 1698476.511, '11', 'W6-1')\n",
      "(447971.359, 1698476.511, '12', 'W6-4')\n",
      "(447983.524, 1698475.419, '16', 'R2-8')\n",
      "(447991.333, 1698468.032, '17', 'W6-1')\n",
      "(447991.333, 1698468.032, '18', 'W6-4')\n",
      "(447976.492, 1698490.137, '15', 'R3-15')\n",
      "(447971.38, 1698503.621, '13', 'W6-1')\n",
      "(447971.38, 1698503.621, '14', 'W6-4')\n",
      "(448004.567, 1698521.312, '20', 'W6-1')\n",
      "(448004.567, 1698521.312, '21', 'W6-4')\n",
      "(448004.567, 1698527.312, '22', 'R1-1')\n",
      "(448031.385, 1698527.312, '26', 'W4-1')\n",
      "(448031.535, 1698521.312, '28', 'W6-1')\n",
      "(448031.535, 1698521.312, '29', 'W6-4')\n",
      "(448066.468, 1698507.29, '35', 'W6-1')\n",
      "(448066.468, 1698507.29, '36', 'W6-4')\n",
      "(448072.468, 1698507.29, '37', 'R1-1')\n",
      "(448061.24, 1698490.074, '32', 'R3-15')\n",
      "(448066.441, 1698472.849, '33', 'W6-1')\n",
      "(448066.441, 1698472.849, '34', 'W6-4')\n",
      "(448048.548, 1698468.032, '30', 'W6-1')\n",
      "(448048.548, 1698468.032, '31', 'W6-4')\n",
      "(448122.468, 1698507.251, '38', 'R1-1')\n",
      "(448031.385, 1698626.346, '27', 'W5-4')\n",
      "(448004.567, 1698626.346, '23', 'W4-1')\n",
      "(448004.599, 1699103.535, '24', 'W5-5')\n",
      "(448003.735, 1699106.535, '19', 'W6-1')\n",
      "(448031.381, 1699106.535, '25', 'W6-1')\n",
      "(448565.882, 1698472.167, '39', 'R1-1')\n",
      "(448615.882, 1698472.167, '40', 'R1-1')\n",
      "(448621.88, 1698471.57, '41', 'W6-1')\n",
      "(448621.88, 1698471.57, '42', 'W6-4')\n",
      "(448621.883, 1698507.711, '43', 'W6-1')\n",
      "(448621.883, 1698507.711, '44', 'W6-4')\n",
      "(448662.057, 1698527.312, '45', 'W4-1')\n",
      "(448676.898, 1698508.775, '48', 'W6-1')\n",
      "(448676.898, 1698507.29, '49', 'W6-4')\n",
      "(448682.898, 1698507.29, '50', 'R1-1')\n",
      "(448682.898, 1698472.644, '51', 'W1-3')\n",
      "(448676.872, 1698472.644, '46', 'W6-1')\n",
      "(448676.872, 1698472.644, '47', 'W6-4')\n",
      "(448732.898, 1698507.401, '57', 'R1-1')\n",
      "(448845.768, 1698412.784, '60', 'W1-3')\n",
      "(448966.361, 1698164.354, '65', 'R2-7')\n",
      "(449013.765, 1698104.968, '73', 'R1-1')\n",
      "(449000.609, 1698085.567, '71', 'W6-1')\n",
      "(449000.609, 1698085.567, '72', 'W6-4')\n",
      "(448967.902, 1698045.029, '66', 'R1-1')\n",
      "(448962.99, 1698041.583, '63', 'W6-1')\n",
      "(448962.99, 1698041.583, '64', 'W6-4')\n",
      "(448977.804, 1698020.423, '68', 'W6-1')\n",
      "(448977.804, 1698020.423, '69', 'W6-4')\n",
      "(448972.892, 1698016.977, '67', 'R1-1')\n",
      "(448982.455, 1698024.241, '70', 'R2-6P')\n",
      "(449024.92, 1697998.435, '74', 'R2-6P')\n",
      "(449034.662, 1697949.383, '75', 'R2-6P')\n",
      "(448905.825, 1697968.804, '62', 'R2-7')\n",
      "(448877.837, 1697982.067, '61', 'W1-3')\n",
      "(448739.898, 1697936.118, '58', 'R1-1')\n",
      "(448740.075, 1697909.293, '59', 'W1-3')\n",
      "(448683.979, 1697909.293, '54', 'W6-1')\n",
      "(448683.979, 1697909.293, '55', 'W6-4')\n",
      "(448683.898, 1697936.162, '52', 'W6-1')\n",
      "(448683.898, 1697936.162, '53', 'W6-4')\n",
      "(448689.898, 1697936.162, '56', 'R1-1')\n",
      "(449042.676, 1697741.425, '76', 'R1-1')\n",
      "(449052.589, 1697692.417, '77', 'R1-1')\n",
      "(449053.779, 1697686.536, '78', 'W6-1')\n",
      "(449053.779, 1697686.536, '79', 'W6-4')\n",
      "(449086.975, 1697693.251, '82', 'W6-1')\n",
      "(449086.975, 1697693.251, '83', 'W6-4')\n",
      "(449102.197, 1697618.148, '89', 'W6-1')\n",
      "(449102.197, 1697618.148, '90', 'W6-4')\n",
      "(449103.386, 1697612.267, '91', 'R1-1')\n",
      "(449068.972, 1697611.427, '80', 'W6-1')\n",
      "(449068.972, 1697611.427, '81', 'W6-4')\n",
      "(449113.299, 1697563.259, '95', 'R1-1')\n",
      "(449099.333, 1697462.082, '84', 'R1-1')\n",
      "(449109.172, 1697412.005, '94', 'R1-1')\n",
      "(449108.473, 1697406.082, '92', 'W6-1')\n",
      "(449108.473, 1697406.082, '93', 'W6-4')\n",
      "(449145.339, 1697406.318, '107', 'W6-1')\n",
      "(449145.339, 1697406.318, '108', 'W6-4')\n",
      "(449154.72, 1697355.71, '117', 'W6-1')\n",
      "(449154.72, 1697355.71, '118', 'W6-4')\n",
      "(449153.138, 1697349.71, '115', 'R1-1')\n",
      "(449116.519, 1697355.71, '98', 'W6-1')\n",
      "(449116.519, 1697355.71, '99', 'W6-4')\n",
      "(449153.138, 1697299.71, '116', 'R1-1')\n",
      "(449116.798, 1697182.474, '102', 'R1-1')\n",
      "(449116.798, 1697132.474, '103', 'R1-1')\n",
      "(449116.798, 1697126.474, '100', 'W6-1')\n",
      "(449116.798, 1697126.474, '101', 'W6-4')\n",
      "(449150.37, 1697131.459, '113', 'W6-1')\n",
      "(449150.37, 1697131.459, '114', 'W6-4')\n",
      "(449148.19, 1697075.955, '110', 'W6-1')\n",
      "(449148.19, 1697075.955, '111', 'W6-4')\n",
      "(449148.19, 1697069.955, '112', 'R1-1')\n",
      "(449115.45, 1697076.972, '96', 'W6-1')\n",
      "(449115.45, 1697076.972, '97', 'W6-4')\n",
      "(449146.939, 1697019.955, '109', 'R1-1')\n",
      "(449100.502, 1696602.676, '87', 'R1-1')\n",
      "(449100.502, 1696552.676, '88', 'R1-1')\n",
      "(449100.502, 1696546.676, '85', 'W6-1')\n",
      "(449100.502, 1696546.676, '86', 'W6-4')\n",
      "(449134.28, 1696545.514, '105', 'W6-1')\n",
      "(449134.28, 1696545.514, '106', 'W6-4')\n",
      "(449127.035, 1698156.463, '104', 'W4-1')\n"
     ]
    }
   ],
   "source": [
    "import csv\n",
    "import itertools\n",
    "\n",
    "# Read the CSV file and store the coordinates in a list\n",
    "coords = []\n",
    "with open('road_marks.csv', 'r') as csvfile:  \n",
    "  reader = csv.reader(csvfile)\n",
    "  for row in reader:\n",
    "    coords.append((float(row[0]), float(row[1]), row[2], str(row[3])))\n",
    "\n",
    "\n",
    "# Calculate the distance between two points\n",
    "def distance(p1, p2):\n",
    "  return ((p1[0] - p2[0])**2 + (p1[1] - p2[1])**2)**0.5\n",
    "\n",
    "\n",
    "# Find the shortest path that visits all points\n",
    "new_list=[coords[0]]\n",
    "list_length=len(coords)\n",
    "i=1\n",
    "for point in new_list:\n",
    "    shortest_dist = float('inf')\n",
    "    \n",
    "    for j in range(1,len(coords)):\n",
    "        computed_dist=distance(point,coords[j])\n",
    "        if computed_dist<shortest_dist:\n",
    "            shortest_dist=computed_dist\n",
    "            new_point=coords[j]\n",
    "            \n",
    "            \n",
    "    new_list.append(new_point)\n",
    "    coords.remove(new_point)\n",
    "    i+=1\n",
    "    \n",
    "    if i>=list_length:\n",
    "        break\n",
    "        \n",
    "\n",
    "\n",
    "\n",
    "# Print the shortest path\n",
    "print(\"Shortest path:\")\n",
    "for p in new_list:\n",
    "  print(p)\n",
    "\n",
    "\n",
    "# Sort the CSV file based on the shortest path\n",
    "sorted_rows = [row for row in new_list]\n",
    "with open('sorted_points_3.csv', 'w') as csvfile:\n",
    "  writer = csv.writer(csvfile)\n",
    "  for row in sorted_rows:\n",
    "    writer.writerow(row)"
   ]
  },
  {
   "cell_type": "code",
   "execution_count": 58,
   "id": "b39c1add",
   "metadata": {},
   "outputs": [
    {
     "data": {
      "text/plain": [
       "[(447444.186, 1698490.554, '1'),\n",
       " (448061.24, 1698490.074, '3'),\n",
       " (448003.735, 1699106.535, '4'),\n",
       " (448031.381, 1699106.535, '5'),\n",
       " (448004.567, 1698521.312, '10')]"
      ]
     },
     "execution_count": 58,
     "metadata": {},
     "output_type": "execute_result"
    }
   ],
   "source": [
    "orig_coords"
   ]
  },
  {
   "cell_type": "code",
   "execution_count": null,
   "id": "1985c024",
   "metadata": {},
   "outputs": [],
   "source": []
  }
 ],
 "metadata": {
  "kernelspec": {
   "display_name": "Python 3 (ipykernel)",
   "language": "python",
   "name": "python3"
  },
  "language_info": {
   "codemirror_mode": {
    "name": "ipython",
    "version": 3
   },
   "file_extension": ".py",
   "mimetype": "text/x-python",
   "name": "python",
   "nbconvert_exporter": "python",
   "pygments_lexer": "ipython3",
   "version": "3.10.6"
  }
 },
 "nbformat": 4,
 "nbformat_minor": 5
}
