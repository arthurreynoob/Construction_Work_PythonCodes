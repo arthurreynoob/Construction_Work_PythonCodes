{
 "cells": [
  {
   "cell_type": "markdown",
   "id": "99d9b809",
   "metadata": {},
   "source": [
    "# Created this to automate renaming the survey data folders and locate which folder have asbuilt data "
   ]
  },
  {
   "cell_type": "code",
   "execution_count": 2,
   "id": "bba4b2f0",
   "metadata": {},
   "outputs": [
    {
     "name": "stdout",
     "output_type": "stream",
     "text": [
      "Collecting pathlib\n",
      "  Downloading pathlib-1.0.1-py3-none-any.whl (14 kB)\n",
      "Installing collected packages: pathlib\n",
      "Successfully installed pathlib-1.0.1\n",
      "Note: you may need to restart the kernel to use updated packages.\n"
     ]
    }
   ],
   "source": [
    "pip install pathlib"
   ]
  },
  {
   "cell_type": "code",
   "execution_count": 13,
   "id": "6be6de78",
   "metadata": {},
   "outputs": [],
   "source": [
    "from pathlib import Path\n",
    "import os"
   ]
  },
  {
   "cell_type": "code",
   "execution_count": 10,
   "id": "bcfffc87",
   "metadata": {},
   "outputs": [
    {
     "name": "stdout",
     "output_type": "stream",
     "text": [
      "True\n",
      "True\n"
     ]
    }
   ],
   "source": [
    "string=['this is hello world','hi world']\n",
    "for item in string:\n",
    "    if 'h' in item:\n",
    "        print('True')"
   ]
  },
  {
   "cell_type": "code",
   "execution_count": 15,
   "id": "faef2c33",
   "metadata": {},
   "outputs": [],
   "source": [
    "our_files = Path(\"C:/Users/M Aldeza/Documents/Arthur Lagura/2_New Clark City/AsBuilt/YEAR 2022\")\n",
    "asbuilt_files = []"
   ]
  },
  {
   "cell_type": "code",
   "execution_count": 16,
   "id": "339c0764",
   "metadata": {},
   "outputs": [
    {
     "name": "stdout",
     "output_type": "stream",
     "text": [
      "C:\\Users\\M Aldeza\\Documents\\Arthur Lagura\\2_New Clark City\\AsBuilt\\YEAR 2022\\011922\n",
      "C:\\Users\\M Aldeza\\Documents\\Arthur Lagura\\2_New Clark City\\AsBuilt\\YEAR 2022\\012022\n",
      "C:\\Users\\M Aldeza\\Documents\\Arthur Lagura\\2_New Clark City\\AsBuilt\\YEAR 2022\\012122\n",
      "C:\\Users\\M Aldeza\\Documents\\Arthur Lagura\\2_New Clark City\\AsBuilt\\YEAR 2022\\012322\n",
      "C:\\Users\\M Aldeza\\Documents\\Arthur Lagura\\2_New Clark City\\AsBuilt\\YEAR 2022\\012422\n",
      "C:\\Users\\M Aldeza\\Documents\\Arthur Lagura\\2_New Clark City\\AsBuilt\\YEAR 2022\\012522\n",
      "C:\\Users\\M Aldeza\\Documents\\Arthur Lagura\\2_New Clark City\\AsBuilt\\YEAR 2022\\012622\n",
      "C:\\Users\\M Aldeza\\Documents\\Arthur Lagura\\2_New Clark City\\AsBuilt\\YEAR 2022\\012722\n",
      "C:\\Users\\M Aldeza\\Documents\\Arthur Lagura\\2_New Clark City\\AsBuilt\\YEAR 2022\\013022\n",
      "C:\\Users\\M Aldeza\\Documents\\Arthur Lagura\\2_New Clark City\\AsBuilt\\YEAR 2022\\013122\n",
      "C:\\Users\\M Aldeza\\Documents\\Arthur Lagura\\2_New Clark City\\AsBuilt\\YEAR 2022\\020122\n",
      "C:\\Users\\M Aldeza\\Documents\\Arthur Lagura\\2_New Clark City\\AsBuilt\\YEAR 2022\\020222\n",
      "C:\\Users\\M Aldeza\\Documents\\Arthur Lagura\\2_New Clark City\\AsBuilt\\YEAR 2022\\020322\n",
      "C:\\Users\\M Aldeza\\Documents\\Arthur Lagura\\2_New Clark City\\AsBuilt\\YEAR 2022\\020422\n",
      "C:\\Users\\M Aldeza\\Documents\\Arthur Lagura\\2_New Clark City\\AsBuilt\\YEAR 2022\\020522\n",
      "C:\\Users\\M Aldeza\\Documents\\Arthur Lagura\\2_New Clark City\\AsBuilt\\YEAR 2022\\020722\n",
      "C:\\Users\\M Aldeza\\Documents\\Arthur Lagura\\2_New Clark City\\AsBuilt\\YEAR 2022\\020822\n",
      "C:\\Users\\M Aldeza\\Documents\\Arthur Lagura\\2_New Clark City\\AsBuilt\\YEAR 2022\\020922\n",
      "C:\\Users\\M Aldeza\\Documents\\Arthur Lagura\\2_New Clark City\\AsBuilt\\YEAR 2022\\021022\n",
      "C:\\Users\\M Aldeza\\Documents\\Arthur Lagura\\2_New Clark City\\AsBuilt\\YEAR 2022\\021122\n",
      "C:\\Users\\M Aldeza\\Documents\\Arthur Lagura\\2_New Clark City\\AsBuilt\\YEAR 2022\\021422\n",
      "C:\\Users\\M Aldeza\\Documents\\Arthur Lagura\\2_New Clark City\\AsBuilt\\YEAR 2022\\021722\n",
      "C:\\Users\\M Aldeza\\Documents\\Arthur Lagura\\2_New Clark City\\AsBuilt\\YEAR 2022\\021822\n",
      "C:\\Users\\M Aldeza\\Documents\\Arthur Lagura\\2_New Clark City\\AsBuilt\\YEAR 2022\\021922\n",
      "C:\\Users\\M Aldeza\\Documents\\Arthur Lagura\\2_New Clark City\\AsBuilt\\YEAR 2022\\022122\n",
      "C:\\Users\\M Aldeza\\Documents\\Arthur Lagura\\2_New Clark City\\AsBuilt\\YEAR 2022\\022222\n",
      "C:\\Users\\M Aldeza\\Documents\\Arthur Lagura\\2_New Clark City\\AsBuilt\\YEAR 2022\\022322\n",
      "C:\\Users\\M Aldeza\\Documents\\Arthur Lagura\\2_New Clark City\\AsBuilt\\YEAR 2022\\022422\n",
      "C:\\Users\\M Aldeza\\Documents\\Arthur Lagura\\2_New Clark City\\AsBuilt\\YEAR 2022\\022722\n",
      "C:\\Users\\M Aldeza\\Documents\\Arthur Lagura\\2_New Clark City\\AsBuilt\\YEAR 2022\\030122\n",
      "C:\\Users\\M Aldeza\\Documents\\Arthur Lagura\\2_New Clark City\\AsBuilt\\YEAR 2022\\030222\n",
      "C:\\Users\\M Aldeza\\Documents\\Arthur Lagura\\2_New Clark City\\AsBuilt\\YEAR 2022\\030322\n",
      "C:\\Users\\M Aldeza\\Documents\\Arthur Lagura\\2_New Clark City\\AsBuilt\\YEAR 2022\\030522\n",
      "C:\\Users\\M Aldeza\\Documents\\Arthur Lagura\\2_New Clark City\\AsBuilt\\YEAR 2022\\030722\n",
      "C:\\Users\\M Aldeza\\Documents\\Arthur Lagura\\2_New Clark City\\AsBuilt\\YEAR 2022\\030822\n",
      "C:\\Users\\M Aldeza\\Documents\\Arthur Lagura\\2_New Clark City\\AsBuilt\\YEAR 2022\\031122\n",
      "C:\\Users\\M Aldeza\\Documents\\Arthur Lagura\\2_New Clark City\\AsBuilt\\YEAR 2022\\031322\n",
      "C:\\Users\\M Aldeza\\Documents\\Arthur Lagura\\2_New Clark City\\AsBuilt\\YEAR 2022\\031522\n",
      "C:\\Users\\M Aldeza\\Documents\\Arthur Lagura\\2_New Clark City\\AsBuilt\\YEAR 2022\\032222\n",
      "C:\\Users\\M Aldeza\\Documents\\Arthur Lagura\\2_New Clark City\\AsBuilt\\YEAR 2022\\032322\n",
      "C:\\Users\\M Aldeza\\Documents\\Arthur Lagura\\2_New Clark City\\AsBuilt\\YEAR 2022\\032422\n",
      "C:\\Users\\M Aldeza\\Documents\\Arthur Lagura\\2_New Clark City\\AsBuilt\\YEAR 2022\\032522\n",
      "C:\\Users\\M Aldeza\\Documents\\Arthur Lagura\\2_New Clark City\\AsBuilt\\YEAR 2022\\032622\n",
      "C:\\Users\\M Aldeza\\Documents\\Arthur Lagura\\2_New Clark City\\AsBuilt\\YEAR 2022\\032722\n",
      "C:\\Users\\M Aldeza\\Documents\\Arthur Lagura\\2_New Clark City\\AsBuilt\\YEAR 2022\\032822\n",
      "C:\\Users\\M Aldeza\\Documents\\Arthur Lagura\\2_New Clark City\\AsBuilt\\YEAR 2022\\032922\n",
      "C:\\Users\\M Aldeza\\Documents\\Arthur Lagura\\2_New Clark City\\AsBuilt\\YEAR 2022\\033122\n",
      "C:\\Users\\M Aldeza\\Documents\\Arthur Lagura\\2_New Clark City\\AsBuilt\\YEAR 2022\\040122\n",
      "C:\\Users\\M Aldeza\\Documents\\Arthur Lagura\\2_New Clark City\\AsBuilt\\YEAR 2022\\040322\n",
      "C:\\Users\\M Aldeza\\Documents\\Arthur Lagura\\2_New Clark City\\AsBuilt\\YEAR 2022\\040422\n",
      "C:\\Users\\M Aldeza\\Documents\\Arthur Lagura\\2_New Clark City\\AsBuilt\\YEAR 2022\\040522\n",
      "C:\\Users\\M Aldeza\\Documents\\Arthur Lagura\\2_New Clark City\\AsBuilt\\YEAR 2022\\040622\n",
      "C:\\Users\\M Aldeza\\Documents\\Arthur Lagura\\2_New Clark City\\AsBuilt\\YEAR 2022\\040722\n",
      "C:\\Users\\M Aldeza\\Documents\\Arthur Lagura\\2_New Clark City\\AsBuilt\\YEAR 2022\\040822\n",
      "C:\\Users\\M Aldeza\\Documents\\Arthur Lagura\\2_New Clark City\\AsBuilt\\YEAR 2022\\040922\n",
      "C:\\Users\\M Aldeza\\Documents\\Arthur Lagura\\2_New Clark City\\AsBuilt\\YEAR 2022\\041122\n",
      "C:\\Users\\M Aldeza\\Documents\\Arthur Lagura\\2_New Clark City\\AsBuilt\\YEAR 2022\\041222\n",
      "C:\\Users\\M Aldeza\\Documents\\Arthur Lagura\\2_New Clark City\\AsBuilt\\YEAR 2022\\041322\n",
      "C:\\Users\\M Aldeza\\Documents\\Arthur Lagura\\2_New Clark City\\AsBuilt\\YEAR 2022\\041922\n",
      "C:\\Users\\M Aldeza\\Documents\\Arthur Lagura\\2_New Clark City\\AsBuilt\\YEAR 2022\\042022\n",
      "C:\\Users\\M Aldeza\\Documents\\Arthur Lagura\\2_New Clark City\\AsBuilt\\YEAR 2022\\042122\n",
      "C:\\Users\\M Aldeza\\Documents\\Arthur Lagura\\2_New Clark City\\AsBuilt\\YEAR 2022\\042322\n",
      "C:\\Users\\M Aldeza\\Documents\\Arthur Lagura\\2_New Clark City\\AsBuilt\\YEAR 2022\\042722\n",
      "C:\\Users\\M Aldeza\\Documents\\Arthur Lagura\\2_New Clark City\\AsBuilt\\YEAR 2022\\042822\n",
      "C:\\Users\\M Aldeza\\Documents\\Arthur Lagura\\2_New Clark City\\AsBuilt\\YEAR 2022\\043022\n",
      "C:\\Users\\M Aldeza\\Documents\\Arthur Lagura\\2_New Clark City\\AsBuilt\\YEAR 2022\\050222\n",
      "C:\\Users\\M Aldeza\\Documents\\Arthur Lagura\\2_New Clark City\\AsBuilt\\YEAR 2022\\050322\n",
      "C:\\Users\\M Aldeza\\Documents\\Arthur Lagura\\2_New Clark City\\AsBuilt\\YEAR 2022\\050522\n",
      "C:\\Users\\M Aldeza\\Documents\\Arthur Lagura\\2_New Clark City\\AsBuilt\\YEAR 2022\\050622\n",
      "C:\\Users\\M Aldeza\\Documents\\Arthur Lagura\\2_New Clark City\\AsBuilt\\YEAR 2022\\051222\n",
      "C:\\Users\\M Aldeza\\Documents\\Arthur Lagura\\2_New Clark City\\AsBuilt\\YEAR 2022\\051322\n",
      "C:\\Users\\M Aldeza\\Documents\\Arthur Lagura\\2_New Clark City\\AsBuilt\\YEAR 2022\\051722\n",
      "C:\\Users\\M Aldeza\\Documents\\Arthur Lagura\\2_New Clark City\\AsBuilt\\YEAR 2022\\051822\n",
      "C:\\Users\\M Aldeza\\Documents\\Arthur Lagura\\2_New Clark City\\AsBuilt\\YEAR 2022\\052122\n",
      "C:\\Users\\M Aldeza\\Documents\\Arthur Lagura\\2_New Clark City\\AsBuilt\\YEAR 2022\\052422\n",
      "C:\\Users\\M Aldeza\\Documents\\Arthur Lagura\\2_New Clark City\\AsBuilt\\YEAR 2022\\052522\n",
      "C:\\Users\\M Aldeza\\Documents\\Arthur Lagura\\2_New Clark City\\AsBuilt\\YEAR 2022\\052822\n",
      "C:\\Users\\M Aldeza\\Documents\\Arthur Lagura\\2_New Clark City\\AsBuilt\\YEAR 2022\\053122\n",
      "C:\\Users\\M Aldeza\\Documents\\Arthur Lagura\\2_New Clark City\\AsBuilt\\YEAR 2022\\060122\n",
      "C:\\Users\\M Aldeza\\Documents\\Arthur Lagura\\2_New Clark City\\AsBuilt\\YEAR 2022\\060222\n",
      "C:\\Users\\M Aldeza\\Documents\\Arthur Lagura\\2_New Clark City\\AsBuilt\\YEAR 2022\\060422\n",
      "C:\\Users\\M Aldeza\\Documents\\Arthur Lagura\\2_New Clark City\\AsBuilt\\YEAR 2022\\060822\n",
      "C:\\Users\\M Aldeza\\Documents\\Arthur Lagura\\2_New Clark City\\AsBuilt\\YEAR 2022\\061122\n",
      "C:\\Users\\M Aldeza\\Documents\\Arthur Lagura\\2_New Clark City\\AsBuilt\\YEAR 2022\\061322\n",
      "C:\\Users\\M Aldeza\\Documents\\Arthur Lagura\\2_New Clark City\\AsBuilt\\YEAR 2022\\061422\n",
      "C:\\Users\\M Aldeza\\Documents\\Arthur Lagura\\2_New Clark City\\AsBuilt\\YEAR 2022\\062122\n",
      "C:\\Users\\M Aldeza\\Documents\\Arthur Lagura\\2_New Clark City\\AsBuilt\\YEAR 2022\\062222\n",
      "C:\\Users\\M Aldeza\\Documents\\Arthur Lagura\\2_New Clark City\\AsBuilt\\YEAR 2022\\062522\n",
      "C:\\Users\\M Aldeza\\Documents\\Arthur Lagura\\2_New Clark City\\AsBuilt\\YEAR 2022\\062822\n",
      "C:\\Users\\M Aldeza\\Documents\\Arthur Lagura\\2_New Clark City\\AsBuilt\\YEAR 2022\\062922\n",
      "C:\\Users\\M Aldeza\\Documents\\Arthur Lagura\\2_New Clark City\\AsBuilt\\YEAR 2022\\063022\n",
      "C:\\Users\\M Aldeza\\Documents\\Arthur Lagura\\2_New Clark City\\AsBuilt\\YEAR 2022\\070122\n",
      "C:\\Users\\M Aldeza\\Documents\\Arthur Lagura\\2_New Clark City\\AsBuilt\\YEAR 2022\\070422\n",
      "C:\\Users\\M Aldeza\\Documents\\Arthur Lagura\\2_New Clark City\\AsBuilt\\YEAR 2022\\070522\n",
      "C:\\Users\\M Aldeza\\Documents\\Arthur Lagura\\2_New Clark City\\AsBuilt\\YEAR 2022\\070622\n",
      "C:\\Users\\M Aldeza\\Documents\\Arthur Lagura\\2_New Clark City\\AsBuilt\\YEAR 2022\\070722\n",
      "C:\\Users\\M Aldeza\\Documents\\Arthur Lagura\\2_New Clark City\\AsBuilt\\YEAR 2022\\070822\n",
      "C:\\Users\\M Aldeza\\Documents\\Arthur Lagura\\2_New Clark City\\AsBuilt\\YEAR 2022\\070922\n",
      "C:\\Users\\M Aldeza\\Documents\\Arthur Lagura\\2_New Clark City\\AsBuilt\\YEAR 2022\\071122\n",
      "C:\\Users\\M Aldeza\\Documents\\Arthur Lagura\\2_New Clark City\\AsBuilt\\YEAR 2022\\071222\n",
      "C:\\Users\\M Aldeza\\Documents\\Arthur Lagura\\2_New Clark City\\AsBuilt\\YEAR 2022\\071322\n",
      "C:\\Users\\M Aldeza\\Documents\\Arthur Lagura\\2_New Clark City\\AsBuilt\\YEAR 2022\\071422\n",
      "C:\\Users\\M Aldeza\\Documents\\Arthur Lagura\\2_New Clark City\\AsBuilt\\YEAR 2022\\071522\n",
      "C:\\Users\\M Aldeza\\Documents\\Arthur Lagura\\2_New Clark City\\AsBuilt\\YEAR 2022\\071822\n",
      "C:\\Users\\M Aldeza\\Documents\\Arthur Lagura\\2_New Clark City\\AsBuilt\\YEAR 2022\\071922\n",
      "C:\\Users\\M Aldeza\\Documents\\Arthur Lagura\\2_New Clark City\\AsBuilt\\YEAR 2022\\072022\n",
      "C:\\Users\\M Aldeza\\Documents\\Arthur Lagura\\2_New Clark City\\AsBuilt\\YEAR 2022\\072122\n",
      "C:\\Users\\M Aldeza\\Documents\\Arthur Lagura\\2_New Clark City\\AsBuilt\\YEAR 2022\\072522\n",
      "C:\\Users\\M Aldeza\\Documents\\Arthur Lagura\\2_New Clark City\\AsBuilt\\YEAR 2022\\072922\n",
      "C:\\Users\\M Aldeza\\Documents\\Arthur Lagura\\2_New Clark City\\AsBuilt\\YEAR 2022\\073122\n",
      "C:\\Users\\M Aldeza\\Documents\\Arthur Lagura\\2_New Clark City\\AsBuilt\\YEAR 2022\\080122\n",
      "C:\\Users\\M Aldeza\\Documents\\Arthur Lagura\\2_New Clark City\\AsBuilt\\YEAR 2022\\080222\n",
      "C:\\Users\\M Aldeza\\Documents\\Arthur Lagura\\2_New Clark City\\AsBuilt\\YEAR 2022\\080322\n",
      "C:\\Users\\M Aldeza\\Documents\\Arthur Lagura\\2_New Clark City\\AsBuilt\\YEAR 2022\\080422\n",
      "C:\\Users\\M Aldeza\\Documents\\Arthur Lagura\\2_New Clark City\\AsBuilt\\YEAR 2022\\080822\n",
      "C:\\Users\\M Aldeza\\Documents\\Arthur Lagura\\2_New Clark City\\AsBuilt\\YEAR 2022\\081022\n",
      "C:\\Users\\M Aldeza\\Documents\\Arthur Lagura\\2_New Clark City\\AsBuilt\\YEAR 2022\\081122\n",
      "C:\\Users\\M Aldeza\\Documents\\Arthur Lagura\\2_New Clark City\\AsBuilt\\YEAR 2022\\081522\n",
      "C:\\Users\\M Aldeza\\Documents\\Arthur Lagura\\2_New Clark City\\AsBuilt\\YEAR 2022\\081622\n",
      "C:\\Users\\M Aldeza\\Documents\\Arthur Lagura\\2_New Clark City\\AsBuilt\\YEAR 2022\\081722\n",
      "C:\\Users\\M Aldeza\\Documents\\Arthur Lagura\\2_New Clark City\\AsBuilt\\YEAR 2022\\081822\n",
      "C:\\Users\\M Aldeza\\Documents\\Arthur Lagura\\2_New Clark City\\AsBuilt\\YEAR 2022\\082022\n",
      "C:\\Users\\M Aldeza\\Documents\\Arthur Lagura\\2_New Clark City\\AsBuilt\\YEAR 2022\\082422\n",
      "C:\\Users\\M Aldeza\\Documents\\Arthur Lagura\\2_New Clark City\\AsBuilt\\YEAR 2022\\083022\n",
      "C:\\Users\\M Aldeza\\Documents\\Arthur Lagura\\2_New Clark City\\AsBuilt\\YEAR 2022\\083122\n",
      "C:\\Users\\M Aldeza\\Documents\\Arthur Lagura\\2_New Clark City\\AsBuilt\\YEAR 2022\\090522\n",
      "C:\\Users\\M Aldeza\\Documents\\Arthur Lagura\\2_New Clark City\\AsBuilt\\YEAR 2022\\090622\n",
      "C:\\Users\\M Aldeza\\Documents\\Arthur Lagura\\2_New Clark City\\AsBuilt\\YEAR 2022\\090922\n",
      "C:\\Users\\M Aldeza\\Documents\\Arthur Lagura\\2_New Clark City\\AsBuilt\\YEAR 2022\\091322\n",
      "C:\\Users\\M Aldeza\\Documents\\Arthur Lagura\\2_New Clark City\\AsBuilt\\YEAR 2022\\092022\n",
      "C:\\Users\\M Aldeza\\Documents\\Arthur Lagura\\2_New Clark City\\AsBuilt\\YEAR 2022\\092922\n",
      "C:\\Users\\M Aldeza\\Documents\\Arthur Lagura\\2_New Clark City\\AsBuilt\\YEAR 2022\\100422\n",
      "C:\\Users\\M Aldeza\\Documents\\Arthur Lagura\\2_New Clark City\\AsBuilt\\YEAR 2022\\101022\n",
      "C:\\Users\\M Aldeza\\Documents\\Arthur Lagura\\2_New Clark City\\AsBuilt\\YEAR 2022\\101822\n",
      "C:\\Users\\M Aldeza\\Documents\\Arthur Lagura\\2_New Clark City\\AsBuilt\\YEAR 2022\\101922\n",
      "C:\\Users\\M Aldeza\\Documents\\Arthur Lagura\\2_New Clark City\\AsBuilt\\YEAR 2022\\102622\n",
      "C:\\Users\\M Aldeza\\Documents\\Arthur Lagura\\2_New Clark City\\AsBuilt\\YEAR 2022\\110922\n",
      "C:\\Users\\M Aldeza\\Documents\\Arthur Lagura\\2_New Clark City\\AsBuilt\\YEAR 2022\\111522\n",
      "C:\\Users\\M Aldeza\\Documents\\Arthur Lagura\\2_New Clark City\\AsBuilt\\YEAR 2022\\111822\n",
      "C:\\Users\\M Aldeza\\Documents\\Arthur Lagura\\2_New Clark City\\AsBuilt\\YEAR 2022\\Automate Code\n",
      "C:\\Users\\M Aldeza\\Documents\\Arthur Lagura\\2_New Clark City\\AsBuilt\\YEAR 2022\\Done Renaming\n"
     ]
    }
   ],
   "source": [
    "for file in our_files.iterdir():\n",
    "    print(file)\n",
    "    asbuilt_files.append(file)"
   ]
  },
  {
   "cell_type": "code",
   "execution_count": 18,
   "id": "4b12878e",
   "metadata": {},
   "outputs": [
    {
     "name": "stdout",
     "output_type": "stream",
     "text": [
      "C:\\Users\\M Aldeza\\Documents\\Arthur Lagura\\2_New Clark City\\AsBuilt\\YEAR 2022\\011922\n"
     ]
    }
   ],
   "source": [
    "print(asbuilt_files[0])"
   ]
  },
  {
   "cell_type": "code",
   "execution_count": 19,
   "id": "8db930bf",
   "metadata": {},
   "outputs": [],
   "source": [
    "old_name = asbuilt_files[0]\n",
    "new_name = f\"{old_name} - Checked\""
   ]
  },
  {
   "cell_type": "code",
   "execution_count": 22,
   "id": "8dbf1c34",
   "metadata": {},
   "outputs": [],
   "source": [
    "os.rename(old_name, new_name)"
   ]
  },
  {
   "cell_type": "code",
   "execution_count": 66,
   "id": "90a5e673",
   "metadata": {},
   "outputs": [
    {
     "name": "stdout",
     "output_type": "stream",
     "text": [
      "C:\\Users\\M Aldeza\\Documents\\Arthur Lagura\\2_New Clark City\\AsBuilt\\YEAR 2022\\012122\n",
      "['Atan Slope-012122.bak', 'Atan Slope-012122.csv', 'Atan Slope-012122.dwg', 'Atan Slope-012122.txt', 'Topo-Joel4b 012122 v.2.csv', 'Topo-Joel4b 012122.bak', 'Topo-Joel4b 012122.csv', 'Topo-Joel4b 012122.dwg', 'Topo-Joel4b 012122.pnt']\n",
      "C:\\Users\\M Aldeza\\Documents\\Arthur Lagura\\2_New Clark City\\AsBuilt\\YEAR 2022\\012122 to C:\\Users\\M Aldeza\\Documents\\Arthur Lagura\\2_New Clark City\\AsBuilt\\YEAR 2022\\012122 - Checked (None)\n"
     ]
    }
   ],
   "source": [
    "asbuilt_files=[]\n",
    "for file_1 in our_files.iterdir():\n",
    "    print(file_1)\n",
    "    file_list = os.listdir(path=file_1)\n",
    "    print(file_list)\n",
    "    for file_2 in file_list:\n",
    "        if 'as' in file_2.lower():\n",
    "            old_name = file_1\n",
    "            new_name = f\"{old_name} - Checked (Asbuilt)\"\n",
    "            print(f\"{old_name} to {new_name}\")\n",
    "            break\n",
    "    else:\n",
    "        old_name = file_1\n",
    "        new_name = f\"{old_name} - Checked (None)\"\n",
    "        print(f\"{old_name} to {new_name}\")\n",
    "#         else:\n",
    "#             old_name = file_1\n",
    "#             new_name = f\"{old_name} - Checked (None)\"\n",
    "#             #os.rename(old_name, new_name)\n",
    "    asbuilt_files.append(file_1)\n",
    "    break\n",
    "    \n"
   ]
  },
  {
   "cell_type": "markdown",
   "id": "3997f017",
   "metadata": {},
   "source": [
    "### Code below was the final script used to execute the automation"
   ]
  },
  {
   "cell_type": "code",
   "execution_count": 68,
   "id": "a539bbb6",
   "metadata": {},
   "outputs": [
    {
     "ename": "PermissionError",
     "evalue": "[WinError 32] The process cannot access the file because it is being used by another process: 'C:\\\\Users\\\\M Aldeza\\\\Documents\\\\Arthur Lagura\\\\2_New Clark City\\\\AsBuilt\\\\YEAR 2022\\\\Automate Code' -> 'C:\\\\Users\\\\M Aldeza\\\\Documents\\\\Arthur Lagura\\\\2_New Clark City\\\\AsBuilt\\\\YEAR 2022\\\\Automate Code - Checked (None)'",
     "output_type": "error",
     "traceback": [
      "\u001b[1;31m---------------------------------------------------------------------------\u001b[0m",
      "\u001b[1;31mPermissionError\u001b[0m                           Traceback (most recent call last)",
      "Input \u001b[1;32mIn [68]\u001b[0m, in \u001b[0;36m<cell line: 2>\u001b[1;34m()\u001b[0m\n\u001b[0;32m     13\u001b[0m         old_name \u001b[38;5;241m=\u001b[39m file_1\n\u001b[0;32m     14\u001b[0m         new_name \u001b[38;5;241m=\u001b[39m \u001b[38;5;124mf\u001b[39m\u001b[38;5;124m\"\u001b[39m\u001b[38;5;132;01m{\u001b[39;00mold_name\u001b[38;5;132;01m}\u001b[39;00m\u001b[38;5;124m - Checked (None)\u001b[39m\u001b[38;5;124m\"\u001b[39m\n\u001b[1;32m---> 15\u001b[0m         \u001b[43mos\u001b[49m\u001b[38;5;241;43m.\u001b[39;49m\u001b[43mrename\u001b[49m\u001b[43m(\u001b[49m\u001b[43mold_name\u001b[49m\u001b[43m,\u001b[49m\u001b[43m \u001b[49m\u001b[43mnew_name\u001b[49m\u001b[43m)\u001b[49m\n\u001b[0;32m     16\u001b[0m \u001b[38;5;66;03m#         else:\u001b[39;00m\n\u001b[0;32m     17\u001b[0m \u001b[38;5;66;03m#             old_name = file_1\u001b[39;00m\n\u001b[0;32m     18\u001b[0m \u001b[38;5;66;03m#             new_name = f\"{old_name} - Checked (None)\"\u001b[39;00m\n\u001b[0;32m     19\u001b[0m \u001b[38;5;66;03m#             #os.rename(old_name, new_name)\u001b[39;00m\n\u001b[0;32m     20\u001b[0m     asbuilt_files\u001b[38;5;241m.\u001b[39mappend(file_1)\n",
      "\u001b[1;31mPermissionError\u001b[0m: [WinError 32] The process cannot access the file because it is being used by another process: 'C:\\\\Users\\\\M Aldeza\\\\Documents\\\\Arthur Lagura\\\\2_New Clark City\\\\AsBuilt\\\\YEAR 2022\\\\Automate Code' -> 'C:\\\\Users\\\\M Aldeza\\\\Documents\\\\Arthur Lagura\\\\2_New Clark City\\\\AsBuilt\\\\YEAR 2022\\\\Automate Code - Checked (None)'"
     ]
    }
   ],
   "source": [
    "asbuilt_files=[]\n",
    "for file_1 in our_files.iterdir():\n",
    "    #print(file_1)\n",
    "    file_list = os.listdir(path=file_1)\n",
    "    #print(file_list)\n",
    "    for file_2 in file_list:\n",
    "        if 'as' in file_2.lower():\n",
    "            old_name = file_1\n",
    "            new_name = f\"{old_name} - Checked (Asbuilt)\"\n",
    "            os.rename(old_name, new_name)\n",
    "            break\n",
    "    else:\n",
    "        old_name = file_1\n",
    "        new_name = f\"{old_name} - Checked (None)\"\n",
    "        os.rename(old_name, new_name)\n",
    "#         else:\n",
    "#             old_name = file_1\n",
    "#             new_name = f\"{old_name} - Checked (None)\"\n",
    "#             #os.rename(old_name, new_name)\n",
    "    asbuilt_files.append(file_1)\n",
    "    \n"
   ]
  },
  {
   "cell_type": "code",
   "execution_count": null,
   "id": "0f67a950",
   "metadata": {},
   "outputs": [],
   "source": []
  }
 ],
 "metadata": {
  "kernelspec": {
   "display_name": "Python 3 (ipykernel)",
   "language": "python",
   "name": "python3"
  },
  "language_info": {
   "codemirror_mode": {
    "name": "ipython",
    "version": 3
   },
   "file_extension": ".py",
   "mimetype": "text/x-python",
   "name": "python",
   "nbconvert_exporter": "python",
   "pygments_lexer": "ipython3",
   "version": "3.9.12"
  }
 },
 "nbformat": 4,
 "nbformat_minor": 5
}
